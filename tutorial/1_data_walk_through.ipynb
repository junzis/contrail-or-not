{
 "cells": [
  {
   "cell_type": "code",
   "execution_count": null,
   "id": "4762aa8c",
   "metadata": {},
   "outputs": [],
   "source": [
    "# for google colab\n",
    "!pip install traffic openap"
   ]
  },
  {
   "cell_type": "code",
   "execution_count": 21,
   "id": "8ec23116",
   "metadata": {},
   "outputs": [],
   "source": [
    "import pandas as pd\n",
    "from traffic.core import Traffic, Flight\n",
    "import openap\n",
    "import warnings\n",
    "\n",
    "warnings.filterwarnings(\"ignore\")\n",
    "\n",
    "pd.options.display.max_columns = 100"
   ]
  },
  {
   "cell_type": "code",
   "execution_count": null,
   "id": "5bd230b7",
   "metadata": {},
   "outputs": [],
   "source": [
    "# file: eu_flights_2022feb20_filter_resample_meteo.parquet.gz\n",
    "df_base = pd.read_parquet(\"https://figshare.com/ndownloader/files/55632065\")\n",
    "t_base = Traffic(df_base)\n",
    "\n",
    "# file: all_optimized.parquet\n",
    "df_optimized = pd.read_parquet(\"https://figshare.com/ndownloader/files/55634282\")\n",
    "t_optimized = Traffic(df_optimized)\n",
    "\n",
    "# file: grid_era5_smoothed.parquet.gz\n",
    "df_era5_cost = pd.read_parquet(\"https://figshare.com/ndownloader/files/55632059\")\n",
    "\n",
    "# file: grid_arpege_smoothed.parquet.gz\n",
    "df_arpege_cost = pd.read_parquet(\"https://figshare.com/ndownloader/files/55632062\")\n"
   ]
  },
  {
   "cell_type": "code",
   "execution_count": null,
   "id": "e3bc7599",
   "metadata": {},
   "outputs": [],
   "source": [
    "t_optimized"
   ]
  },
  {
   "cell_type": "code",
   "execution_count": null,
   "id": "d4ab747f",
   "metadata": {},
   "outputs": [],
   "source": [
    "sample_flight_ids = t_base.query(\n",
    "    \"timestamp.dt.hour==9 and timestamp.dt.minute==30\"\n",
    ").flight_ids\n",
    "\n",
    "sample_flight_ids = t_base[sample_flight_ids].longer_than(\"2h\").eval().flight_ids"
   ]
  },
  {
   "cell_type": "code",
   "execution_count": null,
   "id": "a2bb0ed4",
   "metadata": {},
   "outputs": [],
   "source": [
    "len(sample_flight_ids)"
   ]
  },
  {
   "cell_type": "code",
   "execution_count": null,
   "id": "f6fbdd7c",
   "metadata": {},
   "outputs": [],
   "source": [
    "# quickly get the original flight ids for filtering our selected flights\n",
    "t_optimized = t_optimized.assign(\n",
    "    base_flight_id=lambda d: d.flight_id.str.replace(\"_fuel\", \"\")\n",
    "    .str.replace(\"_era5_03\", \"\")\n",
    "    .str.replace(\"_era5_06\", \"\")\n",
    "    .str.replace(\"_arpege_03\", \"\")\n",
    "    .str.replace(\"_arpege_06\", \"\")\n",
    ")"
   ]
  },
  {
   "cell_type": "code",
   "execution_count": null,
   "id": "c22d2bc3",
   "metadata": {},
   "outputs": [],
   "source": [
    "t_optimized_sampled = t_optimized.query(f\"base_flight_id.isin({sample_flight_ids})\")\n",
    "t_optimized_sampled"
   ]
  },
  {
   "cell_type": "markdown",
   "id": "76152b36",
   "metadata": {},
   "source": [
    "## Visualizing only the flights with persistent contrails"
   ]
  },
  {
   "cell_type": "code",
   "execution_count": null,
   "id": "0eb57cd1",
   "metadata": {},
   "outputs": [],
   "source": [
    "t_optimized_sampled.query(\"flight_id==base_flight_id\").map_leaflet(zoom=4)"
   ]
  },
  {
   "cell_type": "markdown",
   "id": "e637f90a",
   "metadata": {},
   "source": [
    "plot contrails segments in read over the trajectories"
   ]
  },
  {
   "cell_type": "code",
   "execution_count": null,
   "id": "a1958764",
   "metadata": {},
   "outputs": [],
   "source": [
    "t_optimized_sampled.query(\"flight_id==base_flight_id\").map_leaflet(\n",
    "    zoom=4,\n",
    "    highlight={\n",
    "        \"#bd0026\": lambda t: t.query(\"persistent\"),\n",
    "    },\n",
    ")"
   ]
  },
  {
   "cell_type": "markdown",
   "id": "8768f802",
   "metadata": {},
   "source": [
    "## Compare with the climate sensitive regions from the ERA5 data"
   ]
  },
  {
   "cell_type": "code",
   "execution_count": null,
   "id": "22a8fed1",
   "metadata": {},
   "outputs": [],
   "source": [
    "df_era5_cost.query(\"timestamp.dt.hour==9\")"
   ]
  },
  {
   "cell_type": "code",
   "execution_count": null,
   "id": "a96db37f",
   "metadata": {},
   "outputs": [],
   "source": [
    "import matplotlib.pyplot as plt\n",
    "from cartopy import crs as ccrs\n",
    "from cartopy.feature import BORDERS\n",
    "\n",
    "\n",
    "def plot_costs_grid(\n",
    "    df_cost: pd.DataFrame, cmap, select_hour=10, skip_levels=5, ncols=2, nrows=2\n",
    "):\n",
    "    proj = ccrs.TransverseMercator(central_longitude=10, central_latitude=50)\n",
    "\n",
    "    fig, axes = plt.subplots(\n",
    "        nrows, ncols, figsize=(5 * ncols, 3.5 * nrows), subplot_kw=dict(projection=proj)\n",
    "    )\n",
    "\n",
    "    heights = df_cost.height.unique()\n",
    "\n",
    "    for i, ax in enumerate(axes.flatten()):\n",
    "        df_cost_pivot = df_cost.query(\n",
    "            f\"ts=={3600 * select_hour} and height=={heights[skip_levels + i]}\"\n",
    "        ).pivot(index=\"latitude\", columns=\"longitude\", values=\"cost\")\n",
    "\n",
    "        lat, lon, val = (\n",
    "            df_cost_pivot.index.values,\n",
    "            df_cost_pivot.columns.values,\n",
    "            df_cost_pivot.values,\n",
    "        )\n",
    "\n",
    "        ax.set_extent([-20, 40, 28, 65])\n",
    "        ax.add_feature(BORDERS, lw=0.5, edgecolor=\"gray\")\n",
    "        ax.coastlines(resolution=\"110m\", lw=0.5, color=\"gray\")\n",
    "        ax.gridlines(\n",
    "            draw_labels=False, linewidth=0.5, color=\"gray\", alpha=0.5, linestyle=\"--\"\n",
    "        )\n",
    "        ax.contourf(\n",
    "            lon,\n",
    "            lat,\n",
    "            val,\n",
    "            cmap=cmap,\n",
    "            alpha=0.8,\n",
    "            transform=ccrs.PlateCarree(),\n",
    "            vmin=-df_cost.cost.quantile(0.01),\n",
    "            vmax=df_cost.cost.quantile(0.99),\n",
    "        )\n",
    "\n",
    "        fl = heights[skip_levels + i] / openap.aero.ft // 1000 * 10\n",
    "\n",
    "        ax.text(0.03, 0.9, f\"FL{int(fl)}\", transform=ax.transAxes, fontsize=20)\n",
    "\n",
    "    plt.tight_layout()\n",
    "    return plt\n"
   ]
  },
  {
   "cell_type": "code",
   "execution_count": null,
   "id": "95e4ea53",
   "metadata": {},
   "outputs": [],
   "source": [
    "plot_costs_grid(df_era5_cost, select_hour=9, cmap=\"Reds\")"
   ]
  },
  {
   "cell_type": "markdown",
   "id": "311a2c46",
   "metadata": {},
   "source": [
    "## How does the forecast data look like when dealing with persistent contrails?"
   ]
  },
  {
   "cell_type": "code",
   "execution_count": null,
   "id": "fbcf11e7",
   "metadata": {},
   "outputs": [],
   "source": [
    "plot_costs_grid(df_arpege_cost, select_hour=9, cmap=\"RdPu\")"
   ]
  }
 ],
 "metadata": {
  "kernelspec": {
   "display_name": "flight",
   "language": "python",
   "name": "python3"
  },
  "language_info": {
   "codemirror_mode": {
    "name": "ipython",
    "version": 3
   },
   "file_extension": ".py",
   "mimetype": "text/x-python",
   "name": "python",
   "nbconvert_exporter": "python",
   "pygments_lexer": "ipython3",
   "version": "3.12.3"
  }
 },
 "nbformat": 4,
 "nbformat_minor": 5
}
