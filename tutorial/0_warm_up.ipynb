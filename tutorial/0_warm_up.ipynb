{
 "cells": [
  {
   "cell_type": "code",
   "execution_count": null,
   "id": "22b15b41",
   "metadata": {},
   "outputs": [],
   "source": [
    "# for google colab\n",
    "!pip install openap openap-top fastmeteo"
   ]
  },
  {
   "cell_type": "code",
   "execution_count": null,
   "id": "be3809d9",
   "metadata": {},
   "outputs": [],
   "source": [
    "import matplotlib.pyplot as plt\n",
    "import numpy as np\n",
    "import openap\n",
    "import pandas as pd\n",
    "from fastmeteo.source import ArcoEra5\n",
    "from openap import top\n"
   ]
  },
  {
   "cell_type": "markdown",
   "id": "339952be",
   "metadata": {},
   "source": [
    "## define the aircraft type, origin and destination airports"
   ]
  },
  {
   "cell_type": "code",
   "execution_count": null,
   "id": "9b00f8bc",
   "metadata": {},
   "outputs": [],
   "source": [
    "typecode = \"A320\"\n",
    "origin = \"EHAM\"\n",
    "destination = \"LGAV\"\n",
    "\n",
    "# initial mass as the faction of maximum takeoff mass\n",
    "m0 = 0.85"
   ]
  },
  {
   "cell_type": "markdown",
   "id": "36b975c5",
   "metadata": {},
   "source": [
    "## simple fuel optimal trajectory"
   ]
  },
  {
   "cell_type": "code",
   "execution_count": null,
   "id": "778b720c",
   "metadata": {},
   "outputs": [],
   "source": [
    "optimizer = top.CompleteFlight(typecode, origin, destination, m0=m0)\n",
    "\n",
    "flight = optimizer.trajectory(objective=\"fuel\")\n",
    "\n",
    "flight.head()"
   ]
  },
  {
   "cell_type": "code",
   "execution_count": null,
   "id": "bc54be51",
   "metadata": {},
   "outputs": [],
   "source": [
    "top.vis.trajectory(flight, windfield=None, barb_steps=15)"
   ]
  },
  {
   "cell_type": "markdown",
   "id": "6e90af02",
   "metadata": {},
   "source": [
    "## enable the wind"
   ]
  },
  {
   "cell_type": "code",
   "execution_count": null,
   "id": "a9a84f07",
   "metadata": {},
   "outputs": [],
   "source": [
    "# get the boundary of the wind field\n",
    "o = openap.nav.airport(origin)\n",
    "d = openap.nav.airport(destination)\n",
    "\n",
    "latmin = round(min(o[\"lat\"], d[\"lat\"])) - 2\n",
    "latmax = round(max(o[\"lat\"], d[\"lat\"])) + 2\n",
    "lonmin = round(min(o[\"lon\"], d[\"lon\"])) - 4\n",
    "lonmax = round(max(o[\"lon\"], d[\"lon\"])) + 4\n",
    "\n",
    "# create the and flatten the wind grid\n",
    "latitudes = np.arange(latmin, latmax, 0.5)\n",
    "longitudes = np.arange(lonmin, lonmax, 1)\n",
    "altitudes = np.arange(1000, 46000, 2000)\n",
    "timestamps = pd.date_range(\"2022-02-20 08:00:00\", \"2022-02-20 11:00:00\", freq=\"1H\")\n",
    "\n",
    "latitudes, longitudes, altitudes, times = np.meshgrid(\n",
    "    latitudes, longitudes, altitudes, timestamps\n",
    ")\n",
    "\n",
    "grid = pd.DataFrame().assign(\n",
    "    latitude=latitudes.flatten(),\n",
    "    longitude=longitudes.flatten(),\n",
    "    altitude=altitudes.flatten(),\n",
    "    timestamp=times.flatten(),\n",
    ")\n",
    "\n",
    "# obtain the wind based on the grid\n",
    "era5_grid = ArcoEra5(local_store=\"/tmp/era5-zarr\")\n",
    "\n",
    "meteo_data = era5_grid.interpolate(grid)"
   ]
  },
  {
   "cell_type": "code",
   "execution_count": null,
   "id": "89f08f9f",
   "metadata": {},
   "outputs": [],
   "source": [
    "meteo_data.head()"
   ]
  },
  {
   "cell_type": "code",
   "execution_count": null,
   "id": "85716709",
   "metadata": {},
   "outputs": [],
   "source": [
    "wind = (\n",
    "    meteo_data.rename(\n",
    "        columns={\n",
    "            \"u_component_of_wind\": \"u\",\n",
    "            \"v_component_of_wind\": \"v\",\n",
    "        }\n",
    "    )\n",
    "    .assign(ts=lambda x: (x.timestamp - x.timestamp.iloc[0]).dt.total_seconds())\n",
    "    .eval(\"h=altitude * 0.3048\")\n",
    ")[[\"ts\", \"latitude\", \"longitude\", \"h\", \"u\", \"v\"]]\n",
    "\n",
    "wind.head()"
   ]
  },
  {
   "cell_type": "code",
   "execution_count": null,
   "id": "a6be3591",
   "metadata": {},
   "outputs": [],
   "source": [
    "optimizer = top.CompleteFlight(typecode, origin, destination, m0)\n",
    "optimizer.enable_wind(wind)\n",
    "flight = optimizer.trajectory(objective=\"fuel\")"
   ]
  },
  {
   "cell_type": "code",
   "execution_count": null,
   "id": "8eedd0ad",
   "metadata": {},
   "outputs": [],
   "source": [
    "top.vis.trajectory(flight, windfield=wind, barb_steps=15)"
   ]
  },
  {
   "cell_type": "markdown",
   "id": "54dcbc55",
   "metadata": {},
   "source": [
    "## Using a imaginary cost grid over Europe"
   ]
  },
  {
   "cell_type": "code",
   "execution_count": null,
   "id": "89dba70d",
   "metadata": {},
   "outputs": [],
   "source": [
    "def gaussian(x, y, z, t):\n",
    "    return (\n",
    "        np.exp(-((x + 3 - i) ** 2 + (y - 1) ** 2))\n",
    "        + np.exp(-((x - 3 + i / 2) ** 2 + (y + 2) ** 2))\n",
    "    ) * z**2\n",
    "\n",
    "\n",
    "x = np.linspace(-8, 8, 40)\n",
    "y = np.linspace(-4, 4, 40)\n",
    "z = np.linspace(1, 2, 32)\n",
    "X, Y, Z = np.meshgrid(x, y, z)\n",
    "\n",
    "# add the time dimension\n",
    "ts = np.arange(0, 8 * 1800, 1800)  # every 30 minutes\n",
    "costs4d = np.zeros((len(x), len(y), len(z), len(ts)))\n",
    "\n",
    "for i, ts_ in enumerate(ts):\n",
    "    costs3d = gaussian(X, Y, Z, ts)\n",
    "    costs4d[:, :, :, i] = costs3d\n",
    "\n",
    "costs4d = (costs4d - costs4d.min()) / (costs4d.max() - costs4d.min())\n",
    "\n",
    "# scale the x,y to lon,lat bound\n",
    "lon = np.interp(x, (min(x), max(x)), (-10, 40))\n",
    "lat = np.interp(y, (min(y), max(y)), (35, 60))\n",
    "alt = np.interp(z, (min(z), max(z)), (0, 40_000))\n",
    "\n",
    "lons, lats, alts, tss = np.meshgrid(lon, lat, alt, ts)"
   ]
  },
  {
   "cell_type": "code",
   "execution_count": null,
   "id": "992ec29e",
   "metadata": {},
   "outputs": [],
   "source": [
    "fig, axes = plt.subplots(4, 4, figsize=(16, 18), subplot_kw={\"projection\": \"3d\"})\n",
    "for i, ax in enumerate(axes.flatten()):\n",
    "    ax.plot_surface(\n",
    "        lons[:, :, i // 4 * 6, i % 4 * 2],\n",
    "        lats[:, :, i // 4 * 6, i % 4 * 2],\n",
    "        costs4d[:, :, i // 4 * 6, i % 4 * 2],\n",
    "        edgecolor=\"tab:blue\",\n",
    "        lw=0.5,\n",
    "        alpha=0.3,\n",
    "    )\n",
    "    ax.set_zlim(0, 1)\n",
    "    flight_level = int(alt[i // 4 * 6] // 1000 * 10)\n",
    "    time = ts[i % 4 * 2] / 1800 / 2\n",
    "    ax.set_title(f\"FL{flight_level} | {int(time)}h\")\n",
    "    ax.set_xlabel(\"longitude\")\n",
    "    ax.set_ylabel(\"latitude\")\n",
    "    ax.set_zlabel(\"cost\", rotation=90)\n",
    "\n",
    "plt.show()"
   ]
  },
  {
   "cell_type": "code",
   "execution_count": null,
   "id": "0dd7666c",
   "metadata": {},
   "outputs": [],
   "source": [
    "df_cost_4d = pd.DataFrame(\n",
    "    np.array([lons, lats, alts, tss, costs4d]).reshape(5, -1).T,\n",
    "    columns=[\"longitude\", \"latitude\", \"altitude\", \"ts\", \"cost\"],\n",
    ").assign(height=lambda x: x.altitude * 0.3048)\n",
    "\n",
    "df_cost_4d"
   ]
  },
  {
   "cell_type": "code",
   "execution_count": null,
   "id": "8504a287",
   "metadata": {},
   "outputs": [],
   "source": [
    "# optimizer = top.CompleteFlight(typecode, origin, destination, m0=m0)\n",
    "\n",
    "optimizer = top.Cruise(typecode, origin, destination, m0=m0)\n",
    "\n",
    "# optimizer.setup(debug=True)\n",
    "\n",
    "interpolant = top.tools.interpolant_from_dataframe(df_cost_4d)\n",
    "\n",
    "\n",
    "def objective(x, u, dt, **kwargs):\n",
    "    \"\"\"The final objective is the compound of grid cost and fuel\"\"\"\n",
    "    grid_cost = optimizer.obj_grid_cost(\n",
    "        x, u, dt, n_dim=4, time_dependent=True, **kwargs\n",
    "    )\n",
    "    fuel_cost = optimizer.obj_fuel(x, u, dt, **kwargs)\n",
    "    return grid_cost + fuel_cost * 2\n",
    "\n",
    "\n",
    "# generate the flight trajectory\n",
    "# interpolant is passed to trajectory(), and internally used by obj_grid()\n",
    "flight = optimizer.trajectory(objective=objective, interpolant=interpolant)"
   ]
  },
  {
   "cell_type": "code",
   "execution_count": null,
   "id": "2f9ab310",
   "metadata": {},
   "outputs": [],
   "source": [
    "top.vis.trajectory(flight)"
   ]
  },
  {
   "cell_type": "code",
   "execution_count": null,
   "id": "5527fafe",
   "metadata": {},
   "outputs": [],
   "source": [
    "def flight_level_cost_4d(flight, df_cost):\n",
    "    from cartopy import crs as ccrs\n",
    "    from cartopy.feature import BORDERS\n",
    "\n",
    "    proj = ccrs.PlateCarree()\n",
    "\n",
    "    fig, axes = plt.subplots(\n",
    "        3,\n",
    "        2,\n",
    "        figsize=(9, 9),\n",
    "        subplot_kw=dict(\n",
    "            projection=ccrs.TransverseMercator(\n",
    "                central_longitude=15, central_latitude=45\n",
    "            )\n",
    "        ),\n",
    "    )\n",
    "\n",
    "    for i, ax in enumerate(axes.flatten()):\n",
    "        ax.set_extent([-10, 40, 32, 60])\n",
    "        ax.add_feature(BORDERS, lw=0.5, color=\"gray\")\n",
    "        ax.coastlines(resolution=\"110m\", lw=0.5, color=\"gray\")\n",
    "\n",
    "        df_cost_pivot = df_cost.query(\n",
    "            f\"height=={df_cost.height.max()} and ts=={i * 1800}\"\n",
    "        ).pivot(index=\"latitude\", columns=\"longitude\", values=\"cost\")\n",
    "\n",
    "        lat, lon, val = (\n",
    "            df_cost_pivot.index.values,\n",
    "            df_cost_pivot.columns.values,\n",
    "            df_cost_pivot.values,\n",
    "        )\n",
    "\n",
    "        ax.contourf(lon, lat, val, transform=proj, alpha=0.7, cmap=\"Purples\")\n",
    "\n",
    "        current = flight.query(f\"{i * 1800}<ts<{i * 1800 + 600}\").iloc[0]\n",
    "\n",
    "        ax.text(\n",
    "            0.03, 0.9, f\"Time={int(current.ts)}s\", transform=ax.transAxes, fontsize=14\n",
    "        )\n",
    "\n",
    "        ax.scatter(current.longitude, current.latitude, color=\"r\", lw=5, transform=proj)\n",
    "\n",
    "        ax.plot(flight.longitude, flight.latitude, color=\"k\", lw=1, transform=proj)\n",
    "\n",
    "        for r, p in flight.iloc[[0, -1]].iterrows():\n",
    "            ax.scatter(p.longitude, p.latitude, c=\"k\", transform=proj)\n",
    "\n",
    "    plt.tight_layout()\n",
    "    plt.show()\n",
    "\n",
    "\n",
    "flight_level_cost_4d(flight, df_cost_4d)"
   ]
  }
 ],
 "metadata": {
  "kernelspec": {
   "display_name": "flight",
   "language": "python",
   "name": "python3"
  },
  "language_info": {
   "codemirror_mode": {
    "name": "ipython",
    "version": 3
   },
   "file_extension": ".py",
   "mimetype": "text/x-python",
   "name": "python",
   "nbconvert_exporter": "python",
   "pygments_lexer": "ipython3",
   "version": "3.12.3"
  }
 },
 "nbformat": 4,
 "nbformat_minor": 5
}
